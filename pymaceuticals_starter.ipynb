{
 "cells": [
  {
   "cell_type": "markdown",
   "metadata": {},
   "source": [
    "## Observations and Insights"
   ]
  },
  {
   "cell_type": "markdown",
   "metadata": {},
   "source": []
  },
  {
   "cell_type": "markdown",
   "metadata": {},
   "source": [
    "## Dependencies and starter code"
   ]
  },
  {
   "cell_type": "code",
   "execution_count": 2,
   "metadata": {},
   "outputs": [
    {
     "data": {
      "text/html": [
       "<div>\n",
       "<style scoped>\n",
       "    .dataframe tbody tr th:only-of-type {\n",
       "        vertical-align: middle;\n",
       "    }\n",
       "\n",
       "    .dataframe tbody tr th {\n",
       "        vertical-align: top;\n",
       "    }\n",
       "\n",
       "    .dataframe thead th {\n",
       "        text-align: right;\n",
       "    }\n",
       "</style>\n",
       "<table border=\"1\" class=\"dataframe\">\n",
       "  <thead>\n",
       "    <tr style=\"text-align: right;\">\n",
       "      <th></th>\n",
       "      <th>Mouse ID</th>\n",
       "      <th>Drug Regimen</th>\n",
       "      <th>Sex</th>\n",
       "      <th>Age_months</th>\n",
       "      <th>Weight (g)</th>\n",
       "      <th>Timepoint</th>\n",
       "      <th>Tumor Volume (mm3)</th>\n",
       "      <th>Metastatic Sites</th>\n",
       "    </tr>\n",
       "  </thead>\n",
       "  <tbody>\n",
       "    <tr>\n",
       "      <td>0</td>\n",
       "      <td>k403</td>\n",
       "      <td>Ramicane</td>\n",
       "      <td>Male</td>\n",
       "      <td>21</td>\n",
       "      <td>16</td>\n",
       "      <td>0</td>\n",
       "      <td>45.000000</td>\n",
       "      <td>0</td>\n",
       "    </tr>\n",
       "    <tr>\n",
       "      <td>1</td>\n",
       "      <td>k403</td>\n",
       "      <td>Ramicane</td>\n",
       "      <td>Male</td>\n",
       "      <td>21</td>\n",
       "      <td>16</td>\n",
       "      <td>5</td>\n",
       "      <td>38.825898</td>\n",
       "      <td>0</td>\n",
       "    </tr>\n",
       "    <tr>\n",
       "      <td>2</td>\n",
       "      <td>k403</td>\n",
       "      <td>Ramicane</td>\n",
       "      <td>Male</td>\n",
       "      <td>21</td>\n",
       "      <td>16</td>\n",
       "      <td>10</td>\n",
       "      <td>35.014271</td>\n",
       "      <td>1</td>\n",
       "    </tr>\n",
       "    <tr>\n",
       "      <td>3</td>\n",
       "      <td>k403</td>\n",
       "      <td>Ramicane</td>\n",
       "      <td>Male</td>\n",
       "      <td>21</td>\n",
       "      <td>16</td>\n",
       "      <td>15</td>\n",
       "      <td>34.223992</td>\n",
       "      <td>1</td>\n",
       "    </tr>\n",
       "    <tr>\n",
       "      <td>4</td>\n",
       "      <td>k403</td>\n",
       "      <td>Ramicane</td>\n",
       "      <td>Male</td>\n",
       "      <td>21</td>\n",
       "      <td>16</td>\n",
       "      <td>20</td>\n",
       "      <td>32.997729</td>\n",
       "      <td>1</td>\n",
       "    </tr>\n",
       "    <tr>\n",
       "      <td>...</td>\n",
       "      <td>...</td>\n",
       "      <td>...</td>\n",
       "      <td>...</td>\n",
       "      <td>...</td>\n",
       "      <td>...</td>\n",
       "      <td>...</td>\n",
       "      <td>...</td>\n",
       "      <td>...</td>\n",
       "    </tr>\n",
       "    <tr>\n",
       "      <td>1888</td>\n",
       "      <td>z969</td>\n",
       "      <td>Naftisol</td>\n",
       "      <td>Male</td>\n",
       "      <td>9</td>\n",
       "      <td>30</td>\n",
       "      <td>25</td>\n",
       "      <td>63.145652</td>\n",
       "      <td>2</td>\n",
       "    </tr>\n",
       "    <tr>\n",
       "      <td>1889</td>\n",
       "      <td>z969</td>\n",
       "      <td>Naftisol</td>\n",
       "      <td>Male</td>\n",
       "      <td>9</td>\n",
       "      <td>30</td>\n",
       "      <td>30</td>\n",
       "      <td>65.841013</td>\n",
       "      <td>3</td>\n",
       "    </tr>\n",
       "    <tr>\n",
       "      <td>1890</td>\n",
       "      <td>z969</td>\n",
       "      <td>Naftisol</td>\n",
       "      <td>Male</td>\n",
       "      <td>9</td>\n",
       "      <td>30</td>\n",
       "      <td>35</td>\n",
       "      <td>69.176246</td>\n",
       "      <td>4</td>\n",
       "    </tr>\n",
       "    <tr>\n",
       "      <td>1891</td>\n",
       "      <td>z969</td>\n",
       "      <td>Naftisol</td>\n",
       "      <td>Male</td>\n",
       "      <td>9</td>\n",
       "      <td>30</td>\n",
       "      <td>40</td>\n",
       "      <td>70.314904</td>\n",
       "      <td>4</td>\n",
       "    </tr>\n",
       "    <tr>\n",
       "      <td>1892</td>\n",
       "      <td>z969</td>\n",
       "      <td>Naftisol</td>\n",
       "      <td>Male</td>\n",
       "      <td>9</td>\n",
       "      <td>30</td>\n",
       "      <td>45</td>\n",
       "      <td>73.867845</td>\n",
       "      <td>4</td>\n",
       "    </tr>\n",
       "  </tbody>\n",
       "</table>\n",
       "<p>1893 rows × 8 columns</p>\n",
       "</div>"
      ],
      "text/plain": [
       "     Mouse ID Drug Regimen   Sex  Age_months  Weight (g)  Timepoint  \\\n",
       "0        k403     Ramicane  Male          21          16          0   \n",
       "1        k403     Ramicane  Male          21          16          5   \n",
       "2        k403     Ramicane  Male          21          16         10   \n",
       "3        k403     Ramicane  Male          21          16         15   \n",
       "4        k403     Ramicane  Male          21          16         20   \n",
       "...       ...          ...   ...         ...         ...        ...   \n",
       "1888     z969     Naftisol  Male           9          30         25   \n",
       "1889     z969     Naftisol  Male           9          30         30   \n",
       "1890     z969     Naftisol  Male           9          30         35   \n",
       "1891     z969     Naftisol  Male           9          30         40   \n",
       "1892     z969     Naftisol  Male           9          30         45   \n",
       "\n",
       "      Tumor Volume (mm3)  Metastatic Sites  \n",
       "0              45.000000                 0  \n",
       "1              38.825898                 0  \n",
       "2              35.014271                 1  \n",
       "3              34.223992                 1  \n",
       "4              32.997729                 1  \n",
       "...                  ...               ...  \n",
       "1888           63.145652                 2  \n",
       "1889           65.841013                 3  \n",
       "1890           69.176246                 4  \n",
       "1891           70.314904                 4  \n",
       "1892           73.867845                 4  \n",
       "\n",
       "[1893 rows x 8 columns]"
      ]
     },
     "execution_count": 2,
     "metadata": {},
     "output_type": "execute_result"
    }
   ],
   "source": [
    "# Dependencies and Setup\n",
    "import matplotlib.pyplot as plt\n",
    "from scipy.stats import linregress\n",
    "import pandas as pd\n",
    "import scipy.stats as st\n",
    "import numpy as np\n",
    "\n",
    "# Study data files\n",
    "mouse_metadata = \"data/Mouse_metadata.csv\"\n",
    "study_results = \"data/Study_results.csv\"\n",
    "\n",
    "# Read the mouse data and the study results\n",
    "mouse_metadata = pd.read_csv(mouse_metadata)\n",
    "study_results = pd.read_csv(study_results)\n",
    "\n",
    "# Combine the data into a single dataset\n",
    "summaryMergeDF  = pd.merge(mouse_metadata, study_results, on='Mouse ID', how='left')\n",
    "summaryMergeDF"
   ]
  },
  {
   "cell_type": "markdown",
   "metadata": {},
   "source": [
    "## Summary statistics"
   ]
  },
  {
   "cell_type": "code",
   "execution_count": 3,
   "metadata": {},
   "outputs": [
    {
     "data": {
      "text/html": [
       "<div>\n",
       "<style scoped>\n",
       "    .dataframe tbody tr th:only-of-type {\n",
       "        vertical-align: middle;\n",
       "    }\n",
       "\n",
       "    .dataframe tbody tr th {\n",
       "        vertical-align: top;\n",
       "    }\n",
       "\n",
       "    .dataframe thead th {\n",
       "        text-align: right;\n",
       "    }\n",
       "</style>\n",
       "<table border=\"1\" class=\"dataframe\">\n",
       "  <thead>\n",
       "    <tr style=\"text-align: right;\">\n",
       "      <th></th>\n",
       "      <th>Tumor Mean</th>\n",
       "      <th>Tumor Median</th>\n",
       "      <th>Tumor Variance</th>\n",
       "      <th>Standard Deviation</th>\n",
       "      <th>Tumor Error Mean</th>\n",
       "    </tr>\n",
       "    <tr>\n",
       "      <th>Drug Regimen</th>\n",
       "      <th></th>\n",
       "      <th></th>\n",
       "      <th></th>\n",
       "      <th></th>\n",
       "      <th></th>\n",
       "    </tr>\n",
       "  </thead>\n",
       "  <tbody>\n",
       "    <tr>\n",
       "      <td>Capomulin</td>\n",
       "      <td>40.675741</td>\n",
       "      <td>41.557809</td>\n",
       "      <td>24.947764</td>\n",
       "      <td>4.994774</td>\n",
       "      <td>0.329346</td>\n",
       "    </tr>\n",
       "    <tr>\n",
       "      <td>Ceftamin</td>\n",
       "      <td>52.591172</td>\n",
       "      <td>51.776157</td>\n",
       "      <td>39.290177</td>\n",
       "      <td>6.268188</td>\n",
       "      <td>0.469821</td>\n",
       "    </tr>\n",
       "    <tr>\n",
       "      <td>Infubinol</td>\n",
       "      <td>52.884795</td>\n",
       "      <td>51.820584</td>\n",
       "      <td>43.128684</td>\n",
       "      <td>6.567243</td>\n",
       "      <td>0.492236</td>\n",
       "    </tr>\n",
       "    <tr>\n",
       "      <td>Ketapril</td>\n",
       "      <td>55.235638</td>\n",
       "      <td>53.698743</td>\n",
       "      <td>68.553577</td>\n",
       "      <td>8.279709</td>\n",
       "      <td>0.603860</td>\n",
       "    </tr>\n",
       "    <tr>\n",
       "      <td>Naftisol</td>\n",
       "      <td>54.331565</td>\n",
       "      <td>52.509285</td>\n",
       "      <td>66.173479</td>\n",
       "      <td>8.134708</td>\n",
       "      <td>0.596466</td>\n",
       "    </tr>\n",
       "    <tr>\n",
       "      <td>Placebo</td>\n",
       "      <td>54.033581</td>\n",
       "      <td>52.288934</td>\n",
       "      <td>61.168083</td>\n",
       "      <td>7.821003</td>\n",
       "      <td>0.581331</td>\n",
       "    </tr>\n",
       "    <tr>\n",
       "      <td>Propriva</td>\n",
       "      <td>52.322552</td>\n",
       "      <td>50.854632</td>\n",
       "      <td>42.351070</td>\n",
       "      <td>6.507770</td>\n",
       "      <td>0.512884</td>\n",
       "    </tr>\n",
       "    <tr>\n",
       "      <td>Ramicane</td>\n",
       "      <td>40.216745</td>\n",
       "      <td>40.673236</td>\n",
       "      <td>23.486704</td>\n",
       "      <td>4.846308</td>\n",
       "      <td>0.320955</td>\n",
       "    </tr>\n",
       "    <tr>\n",
       "      <td>Stelasyn</td>\n",
       "      <td>54.233149</td>\n",
       "      <td>52.431737</td>\n",
       "      <td>59.450562</td>\n",
       "      <td>7.710419</td>\n",
       "      <td>0.573111</td>\n",
       "    </tr>\n",
       "    <tr>\n",
       "      <td>Zoniferol</td>\n",
       "      <td>53.236507</td>\n",
       "      <td>51.818479</td>\n",
       "      <td>48.533355</td>\n",
       "      <td>6.966589</td>\n",
       "      <td>0.516398</td>\n",
       "    </tr>\n",
       "  </tbody>\n",
       "</table>\n",
       "</div>"
      ],
      "text/plain": [
       "              Tumor Mean  Tumor Median  Tumor Variance  Standard Deviation  \\\n",
       "Drug Regimen                                                                 \n",
       "Capomulin      40.675741     41.557809       24.947764            4.994774   \n",
       "Ceftamin       52.591172     51.776157       39.290177            6.268188   \n",
       "Infubinol      52.884795     51.820584       43.128684            6.567243   \n",
       "Ketapril       55.235638     53.698743       68.553577            8.279709   \n",
       "Naftisol       54.331565     52.509285       66.173479            8.134708   \n",
       "Placebo        54.033581     52.288934       61.168083            7.821003   \n",
       "Propriva       52.322552     50.854632       42.351070            6.507770   \n",
       "Ramicane       40.216745     40.673236       23.486704            4.846308   \n",
       "Stelasyn       54.233149     52.431737       59.450562            7.710419   \n",
       "Zoniferol      53.236507     51.818479       48.533355            6.966589   \n",
       "\n",
       "              Tumor Error Mean  \n",
       "Drug Regimen                    \n",
       "Capomulin             0.329346  \n",
       "Ceftamin              0.469821  \n",
       "Infubinol             0.492236  \n",
       "Ketapril              0.603860  \n",
       "Naftisol              0.596466  \n",
       "Placebo               0.581331  \n",
       "Propriva              0.512884  \n",
       "Ramicane              0.320955  \n",
       "Stelasyn              0.573111  \n",
       "Zoniferol             0.516398  "
      ]
     },
     "execution_count": 3,
     "metadata": {},
     "output_type": "execute_result"
    }
   ],
   "source": [
    "# Generate a summary statistics table of mean, median, variance, standard deviation, and SEM of the tumor volume for each regimen\n",
    "\n",
    "tumorMean = summaryMergeDF.groupby(['Drug Regimen']).mean()['Tumor Volume (mm3)']\n",
    "tumorMedian = summaryMergeDF.groupby(['Drug Regimen']).median()['Tumor Volume (mm3)']\n",
    "tumorVariance = summaryMergeDF.groupby(['Drug Regimen']).var()['Tumor Volume (mm3)']\n",
    "tumorDeviation = summaryMergeDF.groupby(['Drug Regimen']).std()['Tumor Volume (mm3)']\n",
    "tumorSEM = summaryMergeDF.groupby(['Drug Regimen']).sem()['Tumor Volume (mm3)']\n",
    "\n",
    "summaryTumorVolumeDF = pd.DataFrame({'Tumor Mean': tumorMean,\n",
    "                                     'Tumor Median': tumorMedian,\n",
    "                                     'Tumor Variance': tumorVariance,\n",
    "                                     'Standard Deviation': tumorDeviation,\n",
    "                                     'Tumor Error Mean': tumorSEM})\n",
    "summaryTumorVolumeDF"
   ]
  },
  {
   "cell_type": "markdown",
   "metadata": {},
   "source": [
    "## Bar plots"
   ]
  },
  {
   "cell_type": "code",
   "execution_count": 6,
   "metadata": {},
   "outputs": [
    {
     "data": {
      "text/plain": [
       "Text(0, 0.5, 'count')"
      ]
     },
     "execution_count": 6,
     "metadata": {},
     "output_type": "execute_result"
    },
    {
     "data": {
      "image/png": "[encoded data removed]",
      "text/plain": [
       "<Figure size 432x288 with 1 Axes>"
      ]
     },
     "metadata": {
      "needs_background": "light"
     },
     "output_type": "display_data"
    }
   ],
   "source": [
    "# Generate a bar plot showing number of data points for each treatment regimen using pandas\n",
    "groupedTable = summaryMergeDF.groupby('Drug Regimen')\n",
    "drugNameDF = summaryMergeDF.loc[:,[\"Drug Regimen\"]]\n",
    "drugNameDF = drugNameDF[\"Drug Regimen\"].unique()\n",
    "drugCount = groupedTable[\"Drug Regimen\"].count()\n",
    "summaryTableDrugDF = pd.DataFrame({'Drug Name': drugNameDF,\n",
    "                                   'Usage Count': drugCount})\n",
    "ax = summaryTableDrugDF.plot(kind=\"bar\", title='Drug Usage')\n",
    "ax.set_ylabel('count')"
   ]
  },
  {
   "cell_type": "code",
   "execution_count": 8,
   "metadata": {},
   "outputs": [
    {
     "data": {
      "image/png": "[encoded data removed]",
      "text/plain": [
       "<Figure size 432x288 with 1 Axes>"
      ]
     },
     "metadata": {
      "needs_background": "light"
     },
     "output_type": "display_data"
    }
   ],
   "source": [
    "# Generate a bar plot showing number of data points for each treatment regimen using pyplot\n",
    "groupedTable = summaryMergeDF.groupby('Drug Regimen')\n",
    "drugNameDF = summaryMergeDF.loc[:,[\"Drug Regimen\"]]\n",
    "drugCount = groupedTable['Drug Regimen'].count()\n",
    "\n",
    "drugName = drugNameDF['Drug Regimen'].unique()\n",
    "\n",
    "x_axis = np.arange(len(drugCount))\n",
    "\n",
    "tick_locations = [value for value in x_axis]\n",
    "plt.xticks(tick_locations, drugName, rotation=\"vertical\")\n",
    "plt.bar(x_axis,drugCount, color='b',alpha=0.5, align=\"center\")\n",
    "plt.xlim(-1, len(x_axis))\n",
    "plt.ylim(0, max(drugCount)+50)\n",
    "\n",
    "plt.title(\"Drug Usage\")\n",
    "plt.xlabel(\"Drug Regimen\")\n",
    "plt.ylabel(\"Number of Times Used\")\n",
    "plt.show()"
   ]
  },
  {
   "cell_type": "markdown",
   "metadata": {},
   "source": [
    "## Pie plots"
   ]
  },
  {
   "cell_type": "code",
   "execution_count": 26,
   "metadata": {},
   "outputs": [
    {
     "data": {
      "image/png": "[encoded data removed]",
      "text/plain": [
       "<Figure size 432x288 with 1 Axes>"
      ]
     },
     "metadata": {},
     "output_type": "display_data"
    }
   ],
   "source": [
    "# Generate a pie plot showing the distribution of female versus male mice using pandas\n",
    "genderDF = summaryMergeDF.groupby(['Sex'])\n",
    "genderCountsDF = genderDF['Sex'].count()\n",
    "ax = genderCountsDF.plot.pie(autopct='%1.1f%%', title='Gender Count', startangle=80)"
   ]
  },
  {
   "cell_type": "code",
   "execution_count": 25,
   "metadata": {},
   "outputs": [
    {
     "data": {
      "image/png": "[encoded data removed]",
      "text/plain": [
       "<Figure size 432x288 with 1 Axes>"
      ]
     },
     "metadata": {},
     "output_type": "display_data"
    }
   ],
   "source": [
    "# Generate a pie plot showing the distribution of female versus male mice using pyplot\n",
    "genderDF = summaryMergeDF.groupby('Sex')\n",
    "genders = summaryMergeDF['Sex'].unique()\n",
    "genderCountsDF = genderDF['Sex'].count()\n",
    "plt.pie(genderCountsDF, labels=genders, autopct=\"%1.1f%%\", startangle=80)\n",
    "plt.title('Gender Count')\n",
    "plt.axis(\"equal\")\n",
    "plt.show()"
   ]
  },
  {
   "cell_type": "markdown",
   "metadata": {},
   "source": [
    "## Quartiles, outliers and boxplots"
   ]
  },
  {
   "cell_type": "code",
   "execution_count": 142,
   "metadata": {},
   "outputs": [
    {
     "name": "stdout",
     "output_type": "stream",
     "text": [
      "The lower quartile of infubinol is: 54.05\n",
      "The upper quartile of infubinol is: 65.53\n",
      "The interquartile range of infubinol is: 11.48\n",
      "Values below 36.83 could be outliers.\n",
      "Values above 82.74 could be outliers.\n",
      "there are 1 outliers.\n",
      "\n",
      "The lower quartile of placebo is: 52.94\n",
      "The upper quartile of placebo is: 68.13\n",
      "The interquartile range of placebo is: 15.19\n",
      "Values below 30.16 could be outliers.\n",
      "Values above 90.92 could be outliers.\n",
      "there are 0 outliers.\n",
      "\n",
      "The lower quartile of ceftamin is: 48.72\n",
      "The upper quartile of ceftamin is: 64.3\n",
      "The interquartile range of ceftamin is: 15.58\n",
      "Values below 25.36 could be outliers.\n",
      "Values above 87.67 could be outliers.\n",
      "there are 0 outliers.\n",
      "\n",
      "The lower quartile of stelasyn is: 52.48\n",
      "The upper quartile of stelasyn is: 69.1\n",
      "The interquartile range of stelasyn is: 16.63\n",
      "Values below 27.54 could be outliers.\n",
      "Values above 94.04 could be outliers.\n",
      "there are 0 outliers.\n"
     ]
    },
    {
     "data": {
      "text/html": [
       "<div>\n",
       "<style scoped>\n",
       "    .dataframe tbody tr th:only-of-type {\n",
       "        vertical-align: middle;\n",
       "    }\n",
       "\n",
       "    .dataframe tbody tr th {\n",
       "        vertical-align: top;\n",
       "    }\n",
       "\n",
       "    .dataframe thead th {\n",
       "        text-align: right;\n",
       "    }\n",
       "</style>\n",
       "<table border=\"1\" class=\"dataframe\">\n",
       "  <thead>\n",
       "    <tr style=\"text-align: right;\">\n",
       "      <th></th>\n",
       "      <th>Mouse ID</th>\n",
       "      <th>Timepoint</th>\n",
       "      <th>Drug Regimen</th>\n",
       "      <th>Sex</th>\n",
       "      <th>Age_months</th>\n",
       "      <th>Weight (g)</th>\n",
       "      <th>Tumor Volume (mm3)</th>\n",
       "      <th>Metastatic Sites</th>\n",
       "    </tr>\n",
       "  </thead>\n",
       "  <tbody>\n",
       "    <tr>\n",
       "      <td>0</td>\n",
       "      <td>a203</td>\n",
       "      <td>45</td>\n",
       "      <td>Infubinol</td>\n",
       "      <td>Female</td>\n",
       "      <td>20</td>\n",
       "      <td>23</td>\n",
       "      <td>67.973419</td>\n",
       "      <td>2</td>\n",
       "    </tr>\n",
       "    <tr>\n",
       "      <td>1</td>\n",
       "      <td>a251</td>\n",
       "      <td>45</td>\n",
       "      <td>Infubinol</td>\n",
       "      <td>Female</td>\n",
       "      <td>21</td>\n",
       "      <td>25</td>\n",
       "      <td>65.525743</td>\n",
       "      <td>1</td>\n",
       "    </tr>\n",
       "    <tr>\n",
       "      <td>2</td>\n",
       "      <td>a262</td>\n",
       "      <td>45</td>\n",
       "      <td>Placebo</td>\n",
       "      <td>Female</td>\n",
       "      <td>17</td>\n",
       "      <td>29</td>\n",
       "      <td>70.717621</td>\n",
       "      <td>4</td>\n",
       "    </tr>\n",
       "    <tr>\n",
       "      <td>3</td>\n",
       "      <td>a275</td>\n",
       "      <td>45</td>\n",
       "      <td>Ceftamin</td>\n",
       "      <td>Female</td>\n",
       "      <td>20</td>\n",
       "      <td>28</td>\n",
       "      <td>62.999356</td>\n",
       "      <td>3</td>\n",
       "    </tr>\n",
       "    <tr>\n",
       "      <td>4</td>\n",
       "      <td>a366</td>\n",
       "      <td>30</td>\n",
       "      <td>Stelasyn</td>\n",
       "      <td>Female</td>\n",
       "      <td>16</td>\n",
       "      <td>29</td>\n",
       "      <td>63.440686</td>\n",
       "      <td>1</td>\n",
       "    </tr>\n",
       "  </tbody>\n",
       "</table>\n",
       "</div>"
      ],
      "text/plain": [
       "  Mouse ID  Timepoint Drug Regimen     Sex  Age_months  Weight (g)  \\\n",
       "0     a203         45    Infubinol  Female          20          23   \n",
       "1     a251         45    Infubinol  Female          21          25   \n",
       "2     a262         45      Placebo  Female          17          29   \n",
       "3     a275         45     Ceftamin  Female          20          28   \n",
       "4     a366         30     Stelasyn  Female          16          29   \n",
       "\n",
       "   Tumor Volume (mm3)  Metastatic Sites  \n",
       "0           67.973419                 2  \n",
       "1           65.525743                 1  \n",
       "2           70.717621                 4  \n",
       "3           62.999356                 3  \n",
       "4           63.440686                 1  "
      ]
     },
     "execution_count": 142,
     "metadata": {},
     "output_type": "execute_result"
    }
   ],
   "source": [
    "# Calculate the final tumor volume of each mouse across four of the most promising treatment regimens. Calculate the IQR and quantitatively determine if there are any potential outliers.\n",
    "\n",
    "groupedDataMax = summaryMergeDF.groupby([\"Mouse ID\"]).max()\n",
    "groupedDataMax = groupedDataMax.reset_index()\n",
    "groupedDataTime = groupedDataMax[[\"Mouse ID\", \"Timepoint\"]]\n",
    "mergedData = pd.merge(groupedDataTime, summaryMergeDF, on=['Mouse ID','Timepoint'], how='left')\n",
    "\n",
    "\n",
    "infubinol = pd.DataFrame({'Tumor Volume': mergedData.loc[(mergedData[\"Drug Regimen\"] == 'Infubinol')]['Tumor Volume (mm3)']})\n",
    "placebo = pd.DataFrame({'Tumor Volume': mergedData.loc[(mergedData[\"Drug Regimen\"] == 'Placebo')]['Tumor Volume (mm3)']})\n",
    "ceftamin = pd.DataFrame({'Tumor Volume': mergedData.loc[(mergedData[\"Drug Regimen\"] == 'Ceftamin')]['Tumor Volume (mm3)']})\n",
    "stelasyn = pd.DataFrame({'Tumor Volume': mergedData.loc[(mergedData[\"Drug Regimen\"] == 'Stelasyn')]['Tumor Volume (mm3)']})\n",
    "\n",
    "quartiles = infubinol['Tumor Volume'].quantile([.25,.5,.75])\n",
    "lowerQ = quartiles[0.25]\n",
    "upperQ = quartiles[0.75]\n",
    "iqr = upperQ-lowerQ\n",
    "\n",
    "print(f\"The lower quartile of infubinol is: {round(lowerQ,2)}\")\n",
    "print(f\"The upper quartile of infubinol is: {round(upperQ,2)}\")\n",
    "print(f\"The interquartile range of infubinol is: {round(iqr,2)}\")\n",
    "\n",
    "lowerBound = lowerQ - (1.5*iqr)\n",
    "upperBound = upperQ + (1.5*iqr)\n",
    "\n",
    "print(f\"Values below {round(lowerBound,2)} could be outliers.\")\n",
    "print(f\"Values above {round(upperBound,2)} could be outliers.\")\n",
    "\n",
    "infubinolOutliers = infubinol.loc[(infubinol['Tumor Volume'] < lowerBound) | (infubinol['Tumor Volume'] > upperBound)]\n",
    "infOutlierCount = infubinolOutliers['Tumor Volume'].count()\n",
    "print(('there are {0} outliers.').format(infOutlierCount))\n",
    "\n",
    "print('')\n",
    "quartiles = placebo['Tumor Volume'].quantile([.25,.5,.75])\n",
    "lowerQ = quartiles[0.25]\n",
    "upperQ = quartiles[0.75]\n",
    "iqr = upperQ-lowerQ\n",
    "\n",
    "print(f\"The lower quartile of placebo is: {round(lowerQ,2)}\")\n",
    "print(f\"The upper quartile of placebo is: {round(upperQ,2)}\")\n",
    "print(f\"The interquartile range of placebo is: {round(iqr,2)}\")\n",
    "\n",
    "lowerBound = lowerQ - (1.5*iqr)\n",
    "upperBound = upperQ + (1.5*iqr)\n",
    "\n",
    "print(f\"Values below {round(lowerBound,2)} could be outliers.\")\n",
    "print(f\"Values above {round(upperBound,2)} could be outliers.\")\n",
    "\n",
    "placeboOutliers = placebo.loc[(placebo['Tumor Volume'] < lowerBound) | (placebo['Tumor Volume'] > upperBound)]\n",
    "placeboOutCount = placeboOutliers['Tumor Volume'].count()\n",
    "print(('there are {0} outliers.').format(placeboOutCount))\n",
    "\n",
    "print('')\n",
    "quartiles = ceftamin['Tumor Volume'].quantile([.25,.5,.75])\n",
    "lowerQ = quartiles[0.25]\n",
    "upperQ = quartiles[0.75]\n",
    "iqr = upperQ-lowerQ\n",
    "\n",
    "print(f\"The lower quartile of ceftamin is: {round(lowerQ,2)}\")\n",
    "print(f\"The upper quartile of ceftamin is: {round(upperQ,2)}\")\n",
    "print(f\"The interquartile range of ceftamin is: {round(iqr,2)}\")\n",
    "\n",
    "lowerBound = lowerQ - (1.5*iqr)\n",
    "upperBound = upperQ + (1.5*iqr)\n",
    "\n",
    "print(f\"Values below {round(lowerBound,2)} could be outliers.\")\n",
    "print(f\"Values above {round(upperBound,2)} could be outliers.\")\n",
    "\n",
    "ceftaminOutliers = ceftamin.loc[(ceftamin['Tumor Volume'] < lowerBound) | (ceftamin['Tumor Volume'] > upperBound)]\n",
    "ceftaminOutCount = ceftaminOutliers['Tumor Volume'].count()\n",
    "print(('there are {0} outliers.').format(ceftaminOutCount))\n",
    "\n",
    "print('')\n",
    "quartiles = stelasyn['Tumor Volume'].quantile([.25,.5,.75])\n",
    "lowerQ = quartiles[0.25]\n",
    "upperQ = quartiles[0.75]\n",
    "iqr = upperQ-lowerQ\n",
    "\n",
    "print(f\"The lower quartile of stelasyn is: {round(lowerQ,2)}\")\n",
    "print(f\"The upper quartile of stelasyn is: {round(upperQ,2)}\")\n",
    "print(f\"The interquartile range of stelasyn is: {round(iqr,2)}\")\n",
    "\n",
    "lowerBound = lowerQ - (1.5*iqr)\n",
    "upperBound = upperQ + (1.5*iqr)\n",
    "\n",
    "print(f\"Values below {round(lowerBound,2)} could be outliers.\")\n",
    "print(f\"Values above {round(upperBound,2)} could be outliers.\")\n",
    "stelasynOutliers = stelasyn.loc[(stelasyn['Tumor Volume'] < lowerBound) | (stelasyn['Tumor Volume'] > upperBound)]\n",
    "stelasynOutCount = stelasynOutliers['Tumor Volume'].count()\n",
    "print(('there are {0} outliers.').format(stelasynOutCount))\n",
    "mergedData.head()"
   ]
  },
  {
   "cell_type": "code",
   "execution_count": 144,
   "metadata": {},
   "outputs": [
    {
     "data": {
      "image/png": "[encoded data removed]",
      "text/plain": [
       "<Figure size 432x288 with 1 Axes>"
      ]
     },
     "metadata": {
      "needs_background": "light"
     },
     "output_type": "display_data"
    }
   ],
   "source": [
    "# Generate a box plot of the final tumor volume of each mouse across four regimens of interest\n",
    "\n",
    "infubinol = mergedData[(mergedData[\"Drug Regimen\"] == 'Infubinol')]['Tumor Volume (mm3)']\n",
    "ramicane = mergedData[(mergedData[\"Drug Regimen\"] == 'Ramicane')]['Tumor Volume (mm3)']\n",
    "capomulin = mergedData[(mergedData[\"Drug Regimen\"] == 'Capomulin')]['Tumor Volume (mm3)']\n",
    "ceftamin = mergedData[(mergedData[\"Drug Regimen\"] == 'Ceftamin')]['Tumor Volume (mm3)']\n",
    "\n",
    "summaryDrugs = [capomulin, ramicane, infubinol, ceftamin]\n",
    "\n",
    "fig1, ax1 = plt.subplots()\n",
    "ax1.set_title('Final Tumor Volume Regimen')\n",
    "ax1.set_ylabel('Tumor Volume (mm3)')\n",
    "ax1.set_xlabel('Drugs')\n",
    "ax1.set_xticklabels(['Capomulin', 'Ramicane', 'Infubinol', 'Ceftamin'])\n",
    "ax1.boxplot(summaryDrugs)\n",
    "\n",
    "plt.show()\n"
   ]
  },
  {
   "cell_type": "markdown",
   "metadata": {},
   "source": [
    "## Line and scatter plots"
   ]
  },
  {
   "cell_type": "code",
   "execution_count": 113,
   "metadata": {},
   "outputs": [
    {
     "data": {
      "text/plain": [
       "[Text(0, 0.5, 'Tumor Volume (mm3)')]"
      ]
     },
     "execution_count": 113,
     "metadata": {},
     "output_type": "execute_result"
    },
    {
     "data": {
      "image/png": "[encoded data removed]",
      "text/plain": [
       "<Figure size 432x288 with 1 Axes>"
      ]
     },
     "metadata": {
      "needs_background": "light"
     },
     "output_type": "display_data"
    }
   ],
   "source": [
    "# Generate a line plot of time point versus tumor volume for a mouse treated with Capomulin\n",
    "mouseCapomulin = summaryMergeDF[(summaryMergeDF[\"Mouse ID\"] == 'x401')]\n",
    "mouseCapomulin = mouseCapomulin[['Tumor Volume (mm3)', 'Timepoint']]\n",
    "mouseCapomulin = mouseCapomulin.set_index(['Timepoint'])\n",
    "ax = mouseCapomulin.plot.line(title = 'Capomulin x401')\n",
    "ax.set(ylabel='Tumor Volume (mm3)')"
   ]
  },
  {
   "cell_type": "code",
   "execution_count": 116,
   "metadata": {
    "scrolled": true
   },
   "outputs": [
    {
     "data": {
      "text/plain": [
       "Text(0, 0.5, 'Average Tumor Volume (mm3)')"
      ]
     },
     "execution_count": 116,
     "metadata": {},
     "output_type": "execute_result"
    },
    {
     "data": {
      "image/png": "[encoded data removed]",
      "text/plain": [
       "<Figure size 432x288 with 1 Axes>"
      ]
     },
     "metadata": {
      "needs_background": "light"
     },
     "output_type": "display_data"
    }
   ],
   "source": [
    "# Generate a scatter plot of mouse weight versus average tumor volume for the Capomulin regimen\n",
    "capomulinAll = summaryMergeDF[(summaryMergeDF[\"Drug Regimen\"] == 'Capomulin')]\n",
    "capomulinAll = capomulinAll.groupby(['Mouse ID']).mean()\n",
    "ax = capomulinAll.plot.scatter(title='Volume by Weight Scatter', x='Weight (g)', y='Tumor Volume (mm3)')\n",
    "ax.set_ylabel('Average Tumor Volume (mm3)')"
   ]
  },
  {
   "cell_type": "code",
   "execution_count": 120,
   "metadata": {},
   "outputs": [
    {
     "data": {
      "image/png": "[encoded data removed]",
      "text/plain": [
       "<Figure size 432x288 with 1 Axes>"
      ]
     },
     "metadata": {
      "needs_background": "light"
     },
     "output_type": "display_data"
    },
    {
     "name": "stdout",
     "output_type": "stream",
     "text": [
      "The correlation Coefficient is: 0.84\n"
     ]
    }
   ],
   "source": [
    "# Calculate the correlation coefficient and linear regression model for mouse weight and average tumor volume for the Capomulin regimen\n",
    "capomulinAll = summaryMergeDF[(summaryMergeDF[\"Drug Regimen\"] == 'Capomulin')]\n",
    "capomulinAll = capomulinAll.groupby(['Mouse ID']).mean()\n",
    "\n",
    "xValue= capomulinAll['Weight (g)']\n",
    "yValue = capomulinAll['Tumor Volume (mm3)']\n",
    "(slope, intercept, rvalue, pvalue, stderr) = linregress(xValue, yValue)\n",
    "regressValues = xValue * slope + intercept\n",
    "lineEQ = \"y = \" + str(round(slope,2)) + \"x + \" + str(round(intercept,2))\n",
    "plt.scatter(xValue,yValue)\n",
    "plt.plot(xValue,regressValues,\"r-\")\n",
    "plt.annotate(lineEQ,(50,50),fontsize=15,color=\"red\")\n",
    "plt.xlabel('Weight (g)')\n",
    "plt.ylabel('Average Tumor Volume (mm3)')\n",
    "plt.title('Regression Scatter of Tumor Volume vs Weight')\n",
    "plt.show()\n",
    "correlation = st.pearsonr(xValue,yValue)\n",
    "\n",
    "print(f'The correlation Coefficient is: {round(correlation[0],2)}')"
   ]
  },
  {
   "cell_type": "code",
   "execution_count": null,
   "metadata": {},
   "outputs": [],
   "source": []
  }
 ],
 "metadata": {
  "anaconda-cloud": {},
  "kernelspec": {
   "display_name": "Python 3",
   "language": "python",
   "name": "python3"
  },
  "language_info": {
   "codemirror_mode": {
    "name": "ipython",
    "version": 3
   },
   "file_extension": ".py",
   "mimetype": "text/x-python",
   "name": "python",
   "nbconvert_exporter": "python",
   "pygments_lexer": "ipython3",
   "version": "3.7.4"
  }
 },
 "nbformat": 4,
 "nbformat_minor": 2
}
